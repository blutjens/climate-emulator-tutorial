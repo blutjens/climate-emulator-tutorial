{
 "cells": [
  {
   "cell_type": "markdown",
   "id": "8c6af782-242f-44a0-bd4c-42acef4d86d6",
   "metadata": {},
   "source": [
    "## Tutorial on Machine Learning for Weather and Climate Modeling: Emulators"
   ]
  },
  {
   "cell_type": "markdown",
   "id": "a5a2612f-95d0-47c0-8168-21a866fd236f",
   "metadata": {},
   "source": [
    "#### Learning goals:\n",
    "- What is the difference between nowcasting, subseasonal forecasting, weather, and climate modeling? \n",
    "- What is the goal of emulation // surrogate modeling?\n",
    "- How to formulate weather and climate predictions as a video prediction task\n",
    "- How to create a baseline machine learning model for weather predictions\n",
    "- How could embed physical knowledge as demonstrated on Lorenz96"
   ]
  },
  {
   "cell_type": "markdown",
   "id": "059f8020-4987-4bd5-8d8b-9fa875f81d3e",
   "metadata": {},
   "source": [
    "#### What is the difference between nowcasting, subseasonal forecasting, weather, and climate modeling?"
   ]
  },
  {
   "cell_type": "markdown",
   "id": "5e148452-ba75-472e-8af1-40adc048892b",
   "metadata": {},
   "source": [
    "|           | nowcasting   | weather          | s2s          | climate          |\n",
    "|-----------|--------------|------------------|--------------|------------------|\n",
    "| timescale | hours        | days             | months       | years            |\n",
    "| target    | observations | model            | observations | model            |\n",
    "| goal      | accuracy     | accuracy/runtime | accuracy     | accuracy/runtime |"
   ]
  },
  {
   "cell_type": "markdown",
   "id": "f9f879de-985d-4894-b98b-2b5029f75b5c",
   "metadata": {},
   "source": [
    "<img src=\"figures/tutorial/timescales.jpg\" width=\"400\" height=200 align=\"center\"/>"
   ]
  },
  {
   "cell_type": "markdown",
   "id": "0c205932-6bc9-49e0-bd1f-430ff318d632",
   "metadata": {},
   "source": [
    "#### What is the goal in emulating weather and climate models?\n",
    "- *Reduce computational cost at 98% accuracy*\n",
    "- Currently differential equations need to be repeatedly solved for ensemble predictions, parameter exploration, or real-time inference, but ML is orders of magnitude faster\n",
    "- Alternatively, current emulators take linearizing assumptions which sacrifice accuracy.\n",
    "- Can ML learn successful surrogates?"
   ]
  },
  {
   "cell_type": "markdown",
   "id": "44ac2b4b-33fc-45c3-a08b-4ca3ef144148",
   "metadata": {},
   "source": [
    "### How to setup weather and climate modeling as video prediction task: ClimateBench"
   ]
  },
  {
   "cell_type": "markdown",
   "id": "91d65987-1ea9-437b-9720-94753bc3217d",
   "metadata": {},
   "source": [
    "#### Load dataset"
   ]
  },
  {
   "cell_type": "code",
   "execution_count": 17,
   "id": "5e34cf6d-383f-43be-95ef-8ff559f557cc",
   "metadata": {},
   "outputs": [
    {
     "ename": "ModuleNotFoundError",
     "evalue": "No module named 'src.dataloader'",
     "output_type": "error",
     "traceback": [
      "\u001b[0;31m---------------------------------------------------------------------------\u001b[0m",
      "\u001b[0;31mModuleNotFoundError\u001b[0m                       Traceback (most recent call last)",
      "\u001b[0;32m<ipython-input-17-fd24b76b58f4>\u001b[0m in \u001b[0;36m<module>\u001b[0;34m\u001b[0m\n\u001b[0;32m----> 1\u001b[0;31m \u001b[0;32mfrom\u001b[0m \u001b[0msrc\u001b[0m\u001b[0;34m.\u001b[0m\u001b[0mdataloader\u001b[0m \u001b[0;32mimport\u001b[0m \u001b[0mClimateBench\u001b[0m\u001b[0;34m\u001b[0m\u001b[0;34m\u001b[0m\u001b[0m\n\u001b[0m\u001b[1;32m      2\u001b[0m \u001b[0mdataloader\u001b[0m \u001b[0;34m=\u001b[0m \u001b[0mClimateBench\u001b[0m\u001b[0;34m(\u001b[0m\u001b[0mpath\u001b[0m\u001b[0;34m=\u001b[0m\u001b[0;34m'data/climatebench/'\u001b[0m\u001b[0;34m)\u001b[0m\u001b[0;34m\u001b[0m\u001b[0;34m\u001b[0m\u001b[0m\n",
      "\u001b[0;31mModuleNotFoundError\u001b[0m: No module named 'src.dataloader'"
     ]
    }
   ],
   "source": [
    "from src.dataloader import ClimateBench\n",
    "dataloader = ClimateBench(path='data/climatebench/')"
   ]
  },
  {
   "cell_type": "markdown",
   "id": "208e0c88-3e85-4d21-8887-8c7c6fc3aeef",
   "metadata": {},
   "source": [
    "#### Setup video prediction model"
   ]
  },
  {
   "cell_type": "code",
   "execution_count": null,
   "id": "83a4198f-ff30-4a31-a5c7-7959f2ff43d9",
   "metadata": {},
   "outputs": [],
   "source": [
    "model = temporalUnet()\n",
    "criterion = mse_loss()\n",
    "train(dataloader, model, criterion)"
   ]
  },
  {
   "cell_type": "markdown",
   "id": "695f5ca4-e641-4830-b8e2-c79f6f6f33c5",
   "metadata": {},
   "source": [
    "#### Evaluate model with domain metrics "
   ]
  },
  {
   "cell_type": "code",
   "execution_count": null,
   "id": "4876c7a9-200c-40c2-a4b6-5116d2461f79",
   "metadata": {},
   "outputs": [],
   "source": [
    "eval_loss = validate(dataloader, model)\n",
    "print(eval_loss['mse'], eval_loss['csi'], eval_loss['wave_spectrum'])"
   ]
  },
  {
   "cell_type": "markdown",
   "id": "d5568280-b7d5-4d37-9b49-56c2af36853e",
   "metadata": {},
   "source": [
    "### Embedding physical knowledge: Multiscale Neural Operator\n",
    "- Invariances (Equivariant ML)\n",
    "- Loss function (PINNs)\n",
    "- **Coupled ML - physics models**"
   ]
  },
  {
   "cell_type": "markdown",
   "id": "b163319e-bdf9-4adb-81ec-16846533c447",
   "metadata": {},
   "source": [
    "### Setup coupled dataloader"
   ]
  },
  {
   "cell_type": "code",
   "execution_count": null,
   "id": "dbaf52f7-220e-41c8-b7f9-f8c55fbe6103",
   "metadata": {},
   "outputs": [],
   "source": [
    "from src.diffeq import Lorenz96Eq\n",
    "from src.dataloader import CoupledDataloader\n",
    "lorenz96Eq = Lorenz96Eq()\n",
    "coupledDataloader = CoupledDataloader(diffeq=lorenz96Eq)"
   ]
  },
  {
   "cell_type": "code",
   "execution_count": null,
   "id": "30ebb8e0-45a5-4ed5-bb33-4986bde1f9fe",
   "metadata": {},
   "outputs": [],
   "source": [
    "from src.models import CoupledModel\n",
    "coupledModel = CoupledModel(model=model, diffeq=lorenz96Eq)\n",
    "criterion = mse_loss()\n",
    "train(coupledDataloader, coupledModel, criterion)"
   ]
  },
  {
   "cell_type": "markdown",
   "id": "7d256c85-d6a8-44b2-bff0-4333cc70507b",
   "metadata": {},
   "source": [
    "#### Evaluate model with domain metrics"
   ]
  },
  {
   "cell_type": "code",
   "execution_count": null,
   "id": "8de614a4-bb3f-4fcd-9718-b6b1e78cd0e8",
   "metadata": {},
   "outputs": [],
   "source": [
    "eval_loss = validate(coupledDataloader, coupledModel)\n",
    "print(eval_loss['mse'], eval_loss['spectrum'])"
   ]
  }
 ],
 "metadata": {
  "kernelspec": {
   "display_name": "Python 3",
   "language": "python",
   "name": "python3"
  },
  "language_info": {
   "codemirror_mode": {
    "name": "ipython",
    "version": 3
   },
   "file_extension": ".py",
   "mimetype": "text/x-python",
   "name": "python",
   "nbconvert_exporter": "python",
   "pygments_lexer": "ipython3",
   "version": "3.8.5"
  }
 },
 "nbformat": 4,
 "nbformat_minor": 5
}
