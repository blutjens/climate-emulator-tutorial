{
  "nbformat": 4,
  "nbformat_minor": 0,
  "metadata": {
    "colab": {
      "provenance": []
    },
    "kernelspec": {
      "name": "python3",
      "display_name": "Python 3"
    },
    "language_info": {
      "name": "python"
    }
  },
  "cells": [
    {
      "cell_type": "code",
      "metadata": {
        "id": "dzeHYa5GCxN7"
      },
      "source": [
        "# MIT License\n",
        "#\n",
        "#@title Copyright (c) 2021 CCAI Community Authors { display-mode: \"form\" }\n",
        "#\n",
        "# Permission is hereby granted, free of charge, to any person obtaining a\n",
        "# copy of this software and associated documentation files (the \"Software\"),\n",
        "# to deal in the Software without restriction, including without limitation\n",
        "# the rights to use, copy, modify, merge, publish, distribute, sublicense,\n",
        "# and/or sell copies of the Software, and to permit persons to whom the\n",
        "# Software is furnished to do so, subject to the following conditions:\n",
        "#\n",
        "# The above copyright notice and this permission notice shall be included in\n",
        "# all copies or substantial portions of the Software.\n",
        "#\n",
        "# THE SOFTWARE IS PROVIDED \"AS IS\", WITHOUT WARRANTY OF ANY KIND, EXPRESS OR\n",
        "# IMPLIED, INCLUDING BUT NOT LIMITED TO THE WARRANTIES OF MERCHANTABILITY,\n",
        "# FITNESS FOR A PARTICULAR PURPOSE AND NONINFRINGEMENT. IN NO EVENT SHALL\n",
        "# THE AUTHORS OR COPYRIGHT HOLDERS BE LIABLE FOR ANY CLAIM, DAMAGES OR OTHER\n",
        "# LIABILITY, WHETHER IN AN ACTION OF CONTRACT, TORT OR OTHERWISE, ARISING\n",
        "# FROM, OUT OF OR IN CONNECTION WITH THE SOFTWARE OR THE USE OR OTHER\n",
        "# DEALINGS IN THE SOFTWARE."
      ],
      "execution_count": null,
      "outputs": []
    },
    {
      "cell_type": "markdown",
      "metadata": {
        "id": "13i7KQ9t-CV8"
      },
      "source": [
        "# CCAI Tutorial Notebook Template\n",
        "Author(s):\n",
        "*   Author, Affiliation, Email\n",
        "\n",
        "This notebook serves as a template for the tutorials track at the [NeurIPS 2021 Workshop on Tackling Climate Change with Machine Learning](https://www.climatechange.ai/events/neurips2021). \n",
        "\n",
        "To get started, replace the tutorial notebook title and author information accordingly (one bullet point per author). Afterwards, replace the information in this cell with a brief introduction (1-2 sentences) describing a brief summary of the tutorial as well as users' expected learning outcomes. \n",
        "\n",
        "IMPORTANT: Please do not modify the copyright header at the beginning of this tutorial."
      ]
    },
    {
      "cell_type": "markdown",
      "metadata": {
        "id": "yNv0ANr5WcD_"
      },
      "source": [
        "# Table of Contents\n",
        "\n",
        "\n",
        "*   [Overview](#overview)\n",
        "*   [Climate Impact](#climate-impact)\n",
        "*   [Target Audience](#target-audience)\n",
        "*   [Background & Prerequisites](#background-and-prereqs)\n",
        "*   [Software Requirements](#software-requirements)\n",
        "*   [Data Description](#data-description)\n",
        "*   [Methodology](#methodology)\n",
        "*   [Results & Discussion](#results-and-discussion)\n",
        "*   [References](#references)\n"
      ]
    },
    {
      "cell_type": "markdown",
      "metadata": {
        "id": "rqD_ftUYJE1n"
      },
      "source": [
        "# General Guidelines\n",
        "*(Please remove this section from your final tutorial submission.)*\n",
        "\n",
        "The aim of this template is to aid in the creation of high-quality tutorials that is accessible to researchers and engineers in the CCAI community. We provide general guidelines as follows. \n",
        "\n",
        "*   Be brief. \n",
        "    *  Keep it short and simple. Avoid unnecessary complexity.\n",
        "*   Provide enough context.\n",
        "    *  Explain important concepts directly in the tutorial notebook, but feel free to direct users to external resources when necessary.  \n",
        "*   Clearly illustrate the pathways to climate impact. \n",
        "    *  Identify the ways in which work that builds on this tutorial would fit into broader efforts to address climate change.\n",
        "*   Avoid or minimize the use of jargon. \n",
        "    *  Ideally, the content can be understood by both an ML audience and by experts in other relevant fields.\n",
        "*   Focus on readability and usability. \n",
        "    *  Interleave code cells with explanatory text, keeping your audience in mind.\n",
        "\n",
        "## Additional Instructions\n",
        "We highly recommend that you follow the [Ten simple rules for writing and sharing computational analyses using Jupyter Notebooks](https://journals.plos.org/ploscompbiol/article?id=10.1371/journal.pcbi.1007007). We summarize the ten rules as follows:\n",
        "\n",
        "<center><img src=\"https://journals.plos.org/ploscompbiol/article/figure/image?size=large&id=info:doi/10.1371/journal.pcbi.1007007.g001\" width=400>\n",
        "\n",
        "<small>Rule, Adam, et al. \"Ten simple rules for writing and sharing computational analyses in Jupyter Notebooks.\" PLoS computational biology 15.7 (2019).</small></center>\n",
        "\n",
        "### Rule 1: Tell a story for an audience\n",
        "* Interleave explanatory text and code to tell a compelling story.\n",
        "* Describe not just what you did but why you did it.\n",
        "* How you tell your story depends on your goal and your audience.\n",
        "\n",
        "### Rule 2: Document the process, not just the results\n",
        "* Document relevant interactive explorations.\n",
        "* Don't wait until the end to add explanatory text.\n",
        "* Generate publication-ready version of figures from the get-go.\n",
        "\n",
        "### Rule 3: Use cell divisions to make steps clear\n",
        "* Each cell should perform one meaningful step in the analysis.\n",
        "* Think one cell = one paragraph, function, or task (e.g. creating a plot).\n",
        "* Avoid long cells (50+ lines) \n",
        "* Organize your notebook into sections/subsections.  \n",
        "\n",
        "### Rule 4: Modularize code\n",
        "* Avoid duplicate code (no copy-pasting!)\n",
        "* Wrap the code that you want to reuse in a function.\n",
        "\n",
        "### Rule 5: Record dependencies\n",
        "* Manage your dependencies using a package or environment manager (e.g. pip,conda)\n",
        "* Feel free to use tools like Binder or Docker to generate a \"container\" for better reproducibility. \n",
        "\n",
        "### Rule 6: Use version control\n",
        "- Google colab allows you to view revision history.\n",
        "- You can also opt to use Git and Github for version control.\n",
        "- Note that Jupyter uses JSON for serialization making it difficult to track differences.\n",
        "\n",
        "### Rule 7: Build a pipeline\n",
        "* A well-designed notebook can be generalized into a pipeline.\n",
        "* Place key variable declarations at the top/beginning of the notebook.\n",
        "* Make a habit of regularly restarting your kernel and rerunning all cells.\n",
        "\n",
        "### Rule 8: Share and explain your data\n",
        "* Make your data or a sample of your data publicly available along with the notebook.\n",
        "* You can opt to host public copies of your data.\n",
        "\n",
        "### Rule 9: Design your notebooks to be read, run, and explored\n",
        "* Read: For code hosted in a public repository, add README and LICENSE files.\n",
        "* Run: Consider using Google Colab, Binder, or Docker for seamless replication.\n",
        "* Explore: Consider how you can design your notebook so future users can built on top of your work.\n",
        "\n",
        "### Rule 10: Advocate for open research"
      ]
    },
    {
      "cell_type": "markdown",
      "metadata": {
        "id": "QH81wjfsJsv1"
      },
      "source": [
        "<a name=\"overview\"></a>\n",
        "# Overview\n",
        "\n",
        "In this section, kindly provide a summary of the main contributions of the tutorial notebook. Note that the tutorial should introduce or demonstrate the use of a method, dataset, tool, or technology to address a problem related to climate change. Be clear on the goal of the tutorial and the expected learning outcomes for the users. \n",
        "\n",
        "Example contributions include:\n",
        "*   Leveraging existing libraries, packages, or frameworks to tackle a real-world climate-related challenge using machine learning.\n",
        "*   Introducing a new climate-related benchmark dataset, applying machine learning methods, and presenting baseline results.\n",
        "*   Developing new tools or libraries and demonstrating its application to a specific problem in climate change.\n"
      ]
    },
    {
      "cell_type": "markdown",
      "metadata": {
        "id": "99jkSa_KmrDH"
      },
      "source": [
        "<a name=\"climate-impact\"></a>\n",
        "# Climate Impact\n",
        "In this section, describe in more detail how the methods or tools introduced in this tutorial could have pathways to positive impact regarding climate change. The problem should be clearly explained and motivated for non-experts. Feel free to discuss relevant research works, real-world examples of successful applications, and/or climate startups or organizations that are making an impact using similar methods or tools to address climate-related challenges. \n",
        "\n",
        "We also ask that authors emphasize the real-world impact of the methods, specifically: Who will be using the models/outputs and how will they be used? What decisions will be made based on these models? How will they impact existing systems/the environment/affected communities on the ground?"
      ]
    },
    {
      "cell_type": "markdown",
      "metadata": {
        "id": "o5sbM_JPpdMR"
      },
      "source": [
        "<a name=\"target-audience\"></a>\n",
        "# Target Audience\n",
        "\n",
        "Kindly specify the intended target audience for this tutorial notebook. Please be as specific as possible, and feel free to elaborate on their expected background. \n",
        "\n",
        "Examples:\n",
        "\n",
        "*   Climate scientists seeking to explore ML tools, technologies, and resources to tackle a domain-specific problem in climate change. \n",
        "*   Data scientists with prior background in deep learning looking for concrete examples on how to tackle climate change using AI.\n",
        "\n"
      ]
    },
    {
      "cell_type": "markdown",
      "metadata": {
        "id": "gQgijl46pYzn"
      },
      "source": [
        "<a name=\"background-and-prereqs\"></a>\n",
        "# Background & Prerequisites\n",
        "\n",
        "You will need to specify the prerequisites and basic knowledge required for the tutorial. Afterwards, please provide a brief explanation of the most important concepts necessary for the users to follow the tutorial. "
      ]
    },
    {
      "cell_type": "markdown",
      "metadata": {
        "id": "Ag9dvWcxqmEq"
      },
      "source": [
        "## Videos\n",
        "You may also opt to include short videos explaining relevant concepts.\n",
        "\n",
        "Example:"
      ]
    },
    {
      "cell_type": "code",
      "metadata": {
        "colab": {
          "base_uri": "https://localhost:8080/",
          "height": 321
        },
        "id": "E4aK3MI9qhfJ",
        "outputId": "044bd042-37c7-43d2-8a19-78dbc2dd6e46"
      },
      "source": [
        "from IPython.display import YouTubeVideo\n",
        "YouTubeVideo('aircAruvnKk')"
      ],
      "execution_count": null,
      "outputs": [
        {
          "output_type": "execute_result",
          "data": {
            "text/html": [
              "\n",
              "        <iframe\n",
              "            width=\"400\"\n",
              "            height=\"300\"\n",
              "            src=\"https://www.youtube.com/embed/aircAruvnKk\"\n",
              "            frameborder=\"0\"\n",
              "            allowfullscreen\n",
              "        ></iframe>\n",
              "        "
            ],
            "text/plain": [
              "<IPython.lib.display.YouTubeVideo at 0x7fd7ed14f0d0>"
            ],
            "image/jpeg": "[encoded data removed]"
          },
          "metadata": {
            "tags": []
          },
          "execution_count": 1
        }
      ]
    },
    {
      "cell_type": "markdown",
      "metadata": {
        "id": "7BpQklEEIFDD"
      },
      "source": [
        "## Other References\n",
        "Feel free to include additional resources (e.g. research papers, blog posts, textbooks) for the readers to further study. "
      ]
    },
    {
      "cell_type": "markdown",
      "metadata": {
        "id": "rSRCNgYzUwaf"
      },
      "source": [
        "<a name=\"software-requirements\"></a>\n",
        "# Software Requirements\n",
        "Include in this section the software requirements, setup instructions, and library imports. Kindly specify the Python version at the time of submission along with the specific package versions upon installing (e.g. using pip).\n",
        "\n",
        "Example:\n",
        "\n",
        "The Python version at the time of this submission in Colab = Python 3.7.14. \n",
        "\n",
        "The following libraries are required:\n",
        "*   pandas\n",
        "*   numpy\n",
        "*   matplotlib"
      ]
    },
    {
      "cell_type": "code",
      "metadata": {
        "id": "jObV5LtDk0Vm"
      },
      "source": [
        "%%capture\n",
        "!pip install pandas==1.5.3\n",
        "!pip install numpy==1.21.0\n",
        "!pip install matplotlib==3.5.3"
      ],
      "execution_count": null,
      "outputs": []
    },
    {
      "cell_type": "code",
      "metadata": {
        "id": "xVzk4V7qUu2R"
      },
      "source": [
        "# Data visualization\n",
        "import matplotlib.pyplot as plt \n",
        "\n",
        "# Data manipulation\n",
        "import pandas as pd\n",
        "import numpy as np"
      ],
      "execution_count": null,
      "outputs": []
    },
    {
      "cell_type": "markdown",
      "metadata": {
        "id": "jXoiLncsU3pe"
      },
      "source": [
        "<a name=\"data-description\"></a>\n",
        "# Data Description\n",
        "\n",
        "In this section, kindly provide a brief description of the dataset that you will use in this tutorial. Specify information such as the data type or file format (e.g. text, image, video, tabular), size, spatial resolution, temporal resolution, labels or categories, etc. If you are introducing a new dataset, feel free to include additional information (e.g. field survey sampling methods, dataset annotation efforts, etc.) or provide external links and resources that discuss the specific details of the dataset.\n",
        " "
      ]
    },
    {
      "cell_type": "markdown",
      "metadata": {
        "id": "PoF-BxSM5Jkc"
      },
      "source": [
        "## Data Download\n",
        "Provide instructions on how to retrieve the necessary data. \n",
        "\n",
        "This may include bash scripts, Python scripts, or other means of downloading the data."
      ]
    },
    {
      "cell_type": "code",
      "metadata": {
        "id": "Qh5FKi6Nopbr"
      },
      "source": [
        "# Insert data download code here, e.g.\n",
        "# !wget <data-download-link>.zip -O data.zip"
      ],
      "execution_count": null,
      "outputs": []
    },
    {
      "cell_type": "markdown",
      "metadata": {
        "id": "bSt6h_Q-oqjK"
      },
      "source": [
        "## Data Preprocessing\n",
        "Additionally, you can include any data preprocessing steps and exploratory data analyses (e.g. visualize data distributions, impute missing values, etc.) in this section to allow the users to better understand the dataset. \n",
        "\n",
        "In this section, you might also want to describe the different input and output variables, the train/val/test splits, and any data transformations."
      ]
    },
    {
      "cell_type": "code",
      "metadata": {
        "id": "0aBJ5aLZosk-"
      },
      "source": [
        "# Insert data pre-processing and exploratory data analysis\n",
        "# code here. Feel free to break this up into several code\n",
        "# cells, interleaved with explanatory text. "
      ],
      "execution_count": null,
      "outputs": []
    },
    {
      "cell_type": "markdown",
      "metadata": {
        "id": "qa9Iuu2GU52Z"
      },
      "source": [
        "<a name=\"methodology\"></a>\n",
        "# Methodology\n",
        "\n",
        "In this section, describe a step-by-step walkthrough of the methodology, in the form of code cells. Feel free to make use of markdown headings to break this section up into smaller subsections, preferrably one section per task. \n",
        "\n",
        "Reminders:\n",
        "*   Split the code into small, digestible chunks. \n",
        "*   Use text cells to describe each code block.\n",
        "*   Avoid duplicate code through modularization."
      ]
    },
    {
      "cell_type": "markdown",
      "metadata": {
        "id": "yWXsiZ5freTG"
      },
      "source": [
        "## Subtask Heading 1\n",
        "Replace the heading with the appropriate title for each subtask."
      ]
    },
    {
      "cell_type": "code",
      "metadata": {
        "id": "6CeKQHfyrU7k"
      },
      "source": [
        "# Insert code here. Feel free to break this up into several code\n",
        "# cells, interleaved with explanatory text. "
      ],
      "execution_count": null,
      "outputs": []
    },
    {
      "cell_type": "markdown",
      "metadata": {
        "id": "o8L28axZ4NVj"
      },
      "source": [
        "## Subtask Heading 2\n",
        "Replace the heading with the appropriate title for each subtask."
      ]
    },
    {
      "cell_type": "code",
      "metadata": {
        "id": "_6HotiSW4Pe8"
      },
      "source": [
        "# Insert code here. Feel free to break this up into several code\n",
        "# cells, interleaved with explanatory text. "
      ],
      "execution_count": null,
      "outputs": []
    },
    {
      "cell_type": "markdown",
      "metadata": {
        "id": "ZhkmytKNU_Z2"
      },
      "source": [
        "<a name=\"results-and-discussion\"></a>\n",
        "# Results & Discussion\n",
        "\n",
        "In this section, describe your results. Briefly describe the performance metrics and cross validation techniques used. "
      ]
    },
    {
      "cell_type": "code",
      "metadata": {
        "id": "8LWo6UQzwj37"
      },
      "source": [
        "# Insert code here. Feel free to break this up into several code\n",
        "# cells, interleaved with explanatory text."
      ],
      "execution_count": null,
      "outputs": []
    },
    {
      "cell_type": "markdown",
      "metadata": {
        "id": "oHIjM6eMwlXY"
      },
      "source": [
        "Finally, include a discussion on the limitations and important takeaways from the exercise.\n",
        "\n",
        "## Limitations\n",
        "*   ML algorithms and datasets can reinforce or reflect unfair biases. Reflect on the potential biases in the dataset and/or analysis presented in your tutorial, including its potential societal impact, and discuss how you might go about addressing this challenge. "
      ]
    },
    {
      "cell_type": "markdown",
      "metadata": {
        "id": "CLLCQpv14Gsx"
      },
      "source": [
        "## Next Steps\n",
        "*   What do you imagine would be the next steps for your readers after finishing your tutorial?\n",
        "*   Discuss other potential climate-related applications for the method or tool discussed in the tutorial.\n",
        "*   Do you know of other climate-related datasets similar to the one used in this tutorial? List them here."
      ]
    },
    {
      "cell_type": "markdown",
      "metadata": {
        "id": "PkKqewK_-ZLD"
      },
      "source": [
        "<a name=\"references\"></a>\n",
        "# References\n",
        "\n",
        "*   EarthCube Notebook Template: https://github.com/earthcube/NotebookTemplates\n",
        "*   Earth Engine Community Tutorials Style Guide: https://developers.google.com/earth-engine/tutorials/community/styleguide#colab\n",
        "*   Google Cloud Community Tutorial Style Guide: https://cloud.google.com/community/tutorials/styleguide\n",
        "*   Rule A, Birmingham A, Zuniga C, Altintas I, Huang S-C, Knight R, et al. (2019) Ten simple rules for writing and sharing computational analyses in Jupyter Notebooks. PLoS Comput Biol 15(7): e1007007. https://doi.org/10.1371/journal.pcbi.1007007\n",
        "\n",
        "\n"
      ]
    },
    {
      "cell_type": "markdown",
      "metadata": {
        "id": "vVxrY8eNY-Lw"
      },
      "source": [
        "# Submitting the Tutorial\n",
        "*(Please remove this section from your final tutorial submission.)*\n",
        "\n",
        "If you are using Google Colab, make sure to change the permissions by clicking \"Share\" (upper right corner of the notebook) >> Change permissions to \"Anyone on the internet with this link can comment\". \n",
        "\n",
        "For additional questions, please feel free to contact:\n",
        "*   climatechangeai.neurips2022@gmail.com\n",
        "*   tutorials@climatechange.ai"
      ]
    }
  ]
}